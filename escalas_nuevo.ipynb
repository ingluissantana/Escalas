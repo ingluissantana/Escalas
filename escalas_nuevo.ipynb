{
 "cells": [
  {
   "cell_type": "code",
   "execution_count": 1,
   "metadata": {},
   "outputs": [],
   "source": [
    "import pandas as pd\n"
   ]
  },
  {
   "cell_type": "code",
   "execution_count": 2,
   "metadata": {},
   "outputs": [],
   "source": [
    "notas = pd.DataFrame({'notas': ['A', 'A#', 'B', 'C', 'C#', 'D', 'D#', 'E', 'F', 'F#', 'G', 'G#']})\n"
   ]
  },
  {
   "cell_type": "code",
   "execution_count": 3,
   "metadata": {},
   "outputs": [],
   "source": [
    "mayor = notas.iloc[[0,2,4,5,7,9,11]]['notas'].tolist()\n",
    "lidio = notas.iloc[[0,2,4,6,7,9,11]]['notas'].tolist()\n",
    "mixolidio = notas.iloc[[0,2,4,5,7,9,10]]['notas'].tolist()\n",
    "menor = notas.iloc[[0,2,3,5,7,8,10]]['notas'].tolist()\n",
    "dorico = notas.iloc[[0,2,3,5,7,9,10]]['notas'].tolist()\n",
    "frigio = notas.iloc[[0,1,3,5,7,8,10]]['notas'].tolist()\n",
    "locrio= notas.iloc[[0,1,3,5,6,8,10]]['notas'].tolist()\n",
    "arm_menor = notas.iloc[[0,2,3,5,7,8,11]]['notas'].tolist()\n",
    "mel_menor = notas.iloc[[0,2,3,5,7,9,11]]['notas'].tolist()\n"
   ]
  },
  {
   "cell_type": "code",
   "execution_count": 4,
   "metadata": {},
   "outputs": [],
   "source": [
    "campo_mayor=     [\"maj7\", \"m7\", \"m7\", \"maj7\", '7', \"m7\", \"ø\"]\n",
    "campo_lidio=     [\"maj7\", \"(7)<-\", \"m7\", \"ø\", 'maj7', \"m7\", \"m7<-\"]\n",
    "campo_mixolidio= [\"7\", \"m7\", \"ø\", \"maj7\", 'm7<-', \"m7\", \"maj7<-\"]\n",
    "campo_menor=     [\"m7\", \"ø\", \"maj7\", \"m7\", 'm7', \"maj7\", \"7\"]\n",
    "campo_dorico=    [\"m7\", \"m7<-\", \"maj7\", \"7<-\", 'm7', \"ø\", \"maj7\"]\n",
    "campo_frigio=    [\"m7\", \"maj7<-\", \"(7)\", \"m7\", 'ø', \"maj7\", \"m7<-\"]\n",
    "campo_locrio=    [\"ø\", \"\", \"m7\", \"m\", 'maj7', \"\", \"m\"]\n",
    "campo_arm_menor= [\"m\", \"ø\", \"+\", \"m\", '', \"\", \"ø\"]\n",
    "campo_mel_menor= [\"m\", \"m\", \"+\", \"\", '', \"ø\", \"ø\"]"
   ]
  },
  {
   "cell_type": "code",
   "execution_count": 5,
   "metadata": {},
   "outputs": [],
   "source": [
    "escala_mayor = [x+y for x, y in zip(mayor, campo_mayor)]\n",
    "escala_lidia = [x+y for x, y in zip(lidio, campo_lidio)]\n",
    "escala_mixolidia = [x+y for x, y in zip(mixolidio, campo_mixolidio)]\n",
    "escala_menor = [x+y for x, y in zip(menor, campo_menor)]\n",
    "escala_dorica = [x+y for x, y in zip(dorico, campo_dorico)]\n",
    "escala_frigia = [x+y for x, y in zip(frigio, campo_frigio)]\n",
    "escala_locria = [x+y for x, y in zip(locrio, campo_locrio)]\n",
    "escala_arm_menor = [x+y for x, y in zip(arm_menor, campo_arm_menor)]\n",
    "escala_mel_menor = [x+y for x, y in zip(mel_menor, campo_mel_menor)]\n"
   ]
  },
  {
   "cell_type": "code",
   "execution_count": 6,
   "metadata": {},
   "outputs": [
    {
     "data": {
      "text/plain": [
       "['Am7', 'A#maj7<-', 'C(7)', 'Dm7', 'Eø', 'Fmaj7', 'Gm7<-']"
      ]
     },
     "execution_count": 6,
     "metadata": {},
     "output_type": "execute_result"
    }
   ],
   "source": [
    "escala_frigia"
   ]
  },
  {
   "cell_type": "code",
   "execution_count": 7,
   "metadata": {},
   "outputs": [
    {
     "data": {
      "text/plain": [
       "0"
      ]
     },
     "execution_count": 7,
     "metadata": {},
     "output_type": "execute_result"
    }
   ],
   "source": [
    "notas.index[notas['notas']=='A'].to_list()[0]"
   ]
  },
  {
   "cell_type": "code",
   "execution_count": 8,
   "metadata": {},
   "outputs": [
    {
     "data": {
      "text/html": [
       "<div>\n",
       "<style scoped>\n",
       "    .dataframe tbody tr th:only-of-type {\n",
       "        vertical-align: middle;\n",
       "    }\n",
       "\n",
       "    .dataframe tbody tr th {\n",
       "        vertical-align: top;\n",
       "    }\n",
       "\n",
       "    .dataframe thead th {\n",
       "        text-align: right;\n",
       "    }\n",
       "</style>\n",
       "<table border=\"1\" class=\"dataframe\">\n",
       "  <thead>\n",
       "    <tr style=\"text-align: right;\">\n",
       "      <th></th>\n",
       "      <th>notas</th>\n",
       "    </tr>\n",
       "  </thead>\n",
       "  <tbody>\n",
       "    <tr>\n",
       "      <th>0</th>\n",
       "      <td>C</td>\n",
       "    </tr>\n",
       "    <tr>\n",
       "      <th>1</th>\n",
       "      <td>C#</td>\n",
       "    </tr>\n",
       "    <tr>\n",
       "      <th>2</th>\n",
       "      <td>D</td>\n",
       "    </tr>\n",
       "    <tr>\n",
       "      <th>3</th>\n",
       "      <td>D#</td>\n",
       "    </tr>\n",
       "    <tr>\n",
       "      <th>4</th>\n",
       "      <td>E</td>\n",
       "    </tr>\n",
       "    <tr>\n",
       "      <th>5</th>\n",
       "      <td>F</td>\n",
       "    </tr>\n",
       "    <tr>\n",
       "      <th>6</th>\n",
       "      <td>F#</td>\n",
       "    </tr>\n",
       "    <tr>\n",
       "      <th>7</th>\n",
       "      <td>G</td>\n",
       "    </tr>\n",
       "    <tr>\n",
       "      <th>8</th>\n",
       "      <td>G#</td>\n",
       "    </tr>\n",
       "    <tr>\n",
       "      <th>9</th>\n",
       "      <td>A</td>\n",
       "    </tr>\n",
       "    <tr>\n",
       "      <th>10</th>\n",
       "      <td>A#</td>\n",
       "    </tr>\n",
       "    <tr>\n",
       "      <th>11</th>\n",
       "      <td>B</td>\n",
       "    </tr>\n",
       "  </tbody>\n",
       "</table>\n",
       "</div>"
      ],
      "text/plain": [
       "   notas\n",
       "0      C\n",
       "1     C#\n",
       "2      D\n",
       "3     D#\n",
       "4      E\n",
       "5      F\n",
       "6     F#\n",
       "7      G\n",
       "8     G#\n",
       "9      A\n",
       "10    A#\n",
       "11     B"
      ]
     },
     "execution_count": 8,
     "metadata": {},
     "output_type": "execute_result"
    }
   ],
   "source": [
    "pd.concat([notas[3:], notas[:3]], ignore_index=True)"
   ]
  },
  {
   "cell_type": "code",
   "execution_count": null,
   "metadata": {},
   "outputs": [],
   "source": []
  }
 ],
 "metadata": {
  "interpreter": {
   "hash": "ede3e8bae0a6851235d1c7ac60a6e9405a6a53aba61d2accae1bb9a005fb917c"
  },
  "kernelspec": {
   "display_name": "Python 3.9.11 ('ds')",
   "language": "python",
   "name": "python3"
  },
  "language_info": {
   "codemirror_mode": {
    "name": "ipython",
    "version": 3
   },
   "file_extension": ".py",
   "mimetype": "text/x-python",
   "name": "python",
   "nbconvert_exporter": "python",
   "pygments_lexer": "ipython3",
   "version": "3.9.11"
  },
  "orig_nbformat": 4
 },
 "nbformat": 4,
 "nbformat_minor": 2
}
